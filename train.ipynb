{
 "cells": [
  {
   "cell_type": "markdown",
   "metadata": {
    "colab_type": "text",
    "id": "kBwSn8yCQeOt"
   },
   "source": [
    "#Environment Setup"
   ]
  },
  {
   "cell_type": "code",
   "execution_count": 0,
   "metadata": {
    "colab": {},
    "colab_type": "code",
    "id": "9vV5WmzT2Aey"
   },
   "outputs": [],
   "source": [
    "!apt-get install protobuf-compiler python-pil python-lxml python-tk\n",
    "!pip install Cython\n",
    "!pip install jupyter\n",
    "!pip install matplotlib\n",
    "\n",
    "!git clone https://github.com/tensorflow/models.git\n",
    "\n",
    "%cd /content/models/research\n",
    "\n",
    "!protoc object_detection/protos/*.proto --python_out=.\n",
    "\n",
    "%set_env PYTHONPATH=/content/models/research:/content/models/research/slim\n",
    "\n",
    "!python object_detection/builders/model_builder_test.py"
   ]
  },
  {
   "cell_type": "markdown",
   "metadata": {
    "colab_type": "text",
    "id": "7T3RDLqtU6IT"
   },
   "source": [
    "#Train Model"
   ]
  },
  {
   "cell_type": "code",
   "execution_count": 0,
   "metadata": {
    "colab": {},
    "colab_type": "code",
    "id": "tDKvkhu32k1I"
   },
   "outputs": [],
   "source": [
    "!python object_detection/legacy/train.py \\\n",
    "--train_dir=/content/drive/learning/DL/projects/object_detection/speaker_detection/CP \\\n",
    "--pipeline_config_path=/content/drive/learning/DL/projects/object_detection/speaker_detection/faster_rcnn_resnet101_coco.config"
   ]
  },
  {
   "cell_type": "markdown",
   "metadata": {
    "colab_type": "text",
    "id": "dEiNEqC5U-mP"
   },
   "source": [
    "#Save interference graph"
   ]
  },
  {
   "cell_type": "code",
   "execution_count": 0,
   "metadata": {
    "colab": {},
    "colab_type": "code",
    "id": "u_ixlaX62mMF"
   },
   "outputs": [],
   "source": [
    "!python object_detection/export_inference_graph.py \\\n",
    "--input_type=image_tensor \\\n",
    "--pipeline_config_path=/content/drive/learning/DL/projects/object_detection/speaker_detection/faster_rcnn_resnet101_coco.config \\\n",
    "--trained_checkpoint_prefix=/content/drive/learning/DL/projects/object_detection/speaker_detection/CP/model.ckpt-1691 \\\n",
    "--output_directory=/content/drive/learning/DL/projects/object_detection/speaker_detection/IG"
   ]
  },
  {
   "cell_type": "code",
   "execution_count": 0,
   "metadata": {
    "colab": {},
    "colab_type": "code",
    "id": "oiSnn-DhMDFK"
   },
   "outputs": [],
   "source": []
  }
 ],
 "metadata": {
  "accelerator": "GPU",
  "colab": {
   "collapsed_sections": [],
   "name": "train.ipynb",
   "private_outputs": true,
   "provenance": [],
   "version": "0.3.2"
  },
  "kernelspec": {
   "display_name": "Python 3",
   "language": "python",
   "name": "python3"
  },
  "language_info": {
   "codemirror_mode": {
    "name": "ipython",
    "version": 3
   },
   "file_extension": ".py",
   "mimetype": "text/x-python",
   "name": "python",
   "nbconvert_exporter": "python",
   "pygments_lexer": "ipython3",
   "version": "3.6.4"
  }
 },
 "nbformat": 4,
 "nbformat_minor": 1
}
